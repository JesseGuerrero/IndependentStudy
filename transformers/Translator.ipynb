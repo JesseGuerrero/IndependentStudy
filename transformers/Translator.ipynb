{
 "cells": [
  {
   "cell_type": "code",
   "id": "initial_id",
   "metadata": {
    "collapsed": true,
    "ExecuteTime": {
     "end_time": "2024-09-27T05:35:40.025148Z",
     "start_time": "2024-09-27T05:35:34.693358Z"
    }
   },
   "source": [
    "import math\n",
    "\n",
    "import torch\n",
    "import torch.nn as nn\n",
    "import torch.nn.functional as F\n",
    "from torch.utils.data import dataset\n",
    "\n",
    "import numpy as np\n",
    "import matplotlib.pyplot as plt"
   ],
   "outputs": [],
   "execution_count": 1
  },
  {
   "metadata": {
    "ExecuteTime": {
     "end_time": "2024-09-27T05:35:42.122281Z",
     "start_time": "2024-09-27T05:35:42.019575Z"
    }
   },
   "cell_type": "code",
   "source": [
    "class MultiHeadAttention(nn.Module):\n",
    "    '''\n",
    "    d_model: word embedding length\n",
    "    n_head: number of attention heads\n",
    "    d_k: word embedding is split across multiple heads. This is their new length\n",
    "    '''\n",
    "    def __init__(self, d_k, d_model, n_heads, max_len, causal=False):\n",
    "        super().__init__()\n",
    "\n",
    "        self.d_k = d_k\n",
    "        self.n_heads = n_heads\n",
    "\n",
    "        self.key = nn.Linear(d_model, d_k * n_heads)\n",
    "        self.query = nn.Linear(d_model, d_k * n_heads)\n",
    "        self.value = nn.Linear(d_model, d_k * n_heads)\n",
    "\n",
    "        self.fc = nn.Linear(d_k * n_heads, d_model)\n",
    "\n",
    "        self.causal = causal\n",
    "        if self.causal:\n",
    "            cm = torch.tril(torch.ones(max_len, max_len))\n",
    "            self.register_buffer('causal_mask', cm.view(1, 1, max_len, max_len))\n",
    "\n",
    "    def forward(self, q, k, v, pad_mask=None):\n",
    "        q = self.query(q).to(torch.float32)  # Explicitly cast to float32\n",
    "        k = self.key(k).to(torch.float32)\n",
    "        v = self.value(v).to(torch.float32)\n",
    "\n",
    "        N = q.shape[0]\n",
    "        T_output = q.shape[1]\n",
    "        T_input = k.shape[1]\n",
    "\n",
    "        q = q.view(N, T_output, self.n_heads, self.d_k).transpose(1, 2)\n",
    "        k = k.view(N, T_input, self.n_heads, self.d_k).transpose(1, 2)\n",
    "        v = v.view(N, T_input, self.n_heads, self.d_k).transpose(1, 2)\n",
    "\n",
    "        attn_scores = torch.matmul(q, k.transpose(-2, -1)) / math.sqrt(self.d_k)\n",
    "        if pad_mask is not None:\n",
    "            attn_scores = attn_scores.masked_fill(pad_mask[:, None, None, :] == 0, float('-inf'))\n",
    "        if self.causal:\n",
    "            attn_scores = attn_scores.masked_fill(self.causal_mask[:, :, :T_output, :T_input] == 0, float('-inf'))\n",
    "        attn_weights = F.softmax(attn_scores, dim=-1)\n",
    "\n",
    "        A = torch.matmul(attn_weights, v)\n",
    "\n",
    "        A = A.transpose(1, 2)\n",
    "        A = A.contiguous().view(N, T_output, self.d_k * self.n_heads)\n",
    "\n",
    "        return self.fc(A)\n",
    "\n",
    "class EncoderBlock(nn.Module):\n",
    "    def __init__(self, d_k, d_model, n_heads, max_len, dropout_prob=0.1):\n",
    "        super().__init__()\n",
    "\n",
    "        self.ln1 = nn.LayerNorm(d_model)\n",
    "        self.ln2 = nn.LayerNorm(d_model)\n",
    "        self.mha = MultiHeadAttention(d_k, d_model, n_heads, max_len, causal=False)\n",
    "        self.ffn = nn.Sequential(\n",
    "            nn.Linear(d_model, d_model * 4),\n",
    "            nn.GELU(),\n",
    "            nn.Linear(d_model * 4, d_model),\n",
    "            nn.Dropout(dropout_prob)\n",
    "        )\n",
    "        self.dropout = nn.Dropout(dropout_prob)\n",
    "\n",
    "    def forward(self, x, pad_mask=None):\n",
    "        x = self.ln1(x + self.mha(x, x, x, pad_mask))\n",
    "        x = self.ln2(x + self.ffn(x))\n",
    "        x = self.dropout(x)\n",
    "        return x\n",
    "\n",
    "class DecoderBlock(nn.Module):\n",
    "    def __init__(self, d_k, d_model, n_heads, max_len, dropout_prob=0.1):\n",
    "        super().__init__()\n",
    "\n",
    "        self.ln1 = nn.LayerNorm(d_model)\n",
    "        self.ln2 = nn.LayerNorm(d_model)\n",
    "        self.ln3 = nn.LayerNorm(d_model)\n",
    "        self.mha1 = MultiHeadAttention(d_k, d_model, n_heads, max_len, causal=True)\n",
    "        self.mha2 = MultiHeadAttention(d_k, d_model, n_heads, max_len, causal=False)\n",
    "        self.ffn = nn.Sequential(\n",
    "            nn.Linear(d_model, d_model * 4),\n",
    "            nn.GELU(),\n",
    "            nn.Linear(d_model * 4, d_model),\n",
    "            nn.Dropout(dropout_prob)\n",
    "        )\n",
    "        self.dropout = nn.Dropout(dropout_prob)\n",
    "\n",
    "    def forward(self, enc_output, dec_input, enc_mask=None, dec_mask=None):\n",
    "        x = self.ln1(dec_input + self.mha1(dec_input, dec_input, dec_input, dec_mask))\n",
    "        x = self.ln2(x + self.mha2(x, enc_output, enc_output, enc_mask))\n",
    "        x = self.ln3(x + self.ffn(x))\n",
    "        x = self.dropout(x)\n",
    "        return x\n",
    "\n",
    "class PositionalEncoding(nn.Module):\n",
    "    def __init__(self, d_model, max_len=2048, dropout_prob=0.1):\n",
    "        super().__init__()\n",
    "        self.dropout = nn.Dropout(p=dropout_prob)\n",
    "\n",
    "        position = torch.arange(max_len).unsqueeze(1)\n",
    "        exp_term = torch.arange(0, d_model, 2)\n",
    "        div_term = torch.exp(exp_term * (-math.log(10_000.0) / d_model))\n",
    "        pe = torch.zeros(1, max_len, d_model)\n",
    "        pe[0, :, 0::2] = torch.sin(position * div_term)\n",
    "        pe[0, :, 1::2] = torch.cos(position * div_term)\n",
    "        self.register_buffer('pe', pe)\n",
    "\n",
    "    def forward(self, x):\n",
    "        x = x + self.pe[:, :x.size(1), :]\n",
    "        return self.dropout(x)\n",
    "\n",
    "class Encoder(nn.Module):\n",
    "    def __init__(self, vocab_size, max_len, d_k, d_model, n_heads, n_layers, dropout_prob=0.1):\n",
    "        super().__init__()\n",
    "        self.embedding = nn.Embedding(vocab_size, d_model)\n",
    "        self.pos_encoding = PositionalEncoding(d_model, max_len, dropout_prob)\n",
    "        transformer_blocks = [\n",
    "            EncoderBlock(d_k, d_model, n_heads, max_len, dropout_prob) for _ in range(n_layers)\n",
    "        ]\n",
    "        self.transformer_blocks = nn.Sequential(*transformer_blocks)\n",
    "        self.ln = nn.LayerNorm(d_model)\n",
    "\n",
    "    def forward(self, x, pad_mask=None):\n",
    "        x = self.embedding(x)\n",
    "        x = self.pos_encoding(x)\n",
    "        for block in self.transformer_blocks:\n",
    "            x = block(x, pad_mask)\n",
    "        x = self.ln(x)\n",
    "        return x\n",
    "\n",
    "class Decoder(nn.Module):\n",
    "    def __init__(self, vocab_size, max_len, d_k, d_model, n_heads, n_layers, dropout_prob=0.1):\n",
    "        super().__init__()\n",
    "        self.embedding = nn.Embedding(vocab_size, d_model)\n",
    "        self.pos_encoding = PositionalEncoding(d_model, max_len, dropout_prob)\n",
    "        transformer_blocks = [\n",
    "            DecoderBlock(d_k, d_model, n_heads, max_len, dropout_prob) for _ in range(n_layers)\n",
    "        ]\n",
    "        self.transformer_blocks = nn.Sequential(*transformer_blocks)\n",
    "        self.ln = nn.LayerNorm(d_model)\n",
    "        self.fc = nn.Linear(d_model, vocab_size)\n",
    "\n",
    "    def forward(self, enc_output, dec_input, enc_mask=None, dec_mask=None):\n",
    "        x = self.embedding(dec_input)\n",
    "        x = self.pos_encoding(x)\n",
    "        for block in self.transformer_blocks:\n",
    "            x = block(enc_output, x, enc_mask, dec_mask)\n",
    "        x = self.ln(x)\n",
    "        x = self.fc(x) # many-to-many\n",
    "        return x\n",
    "\n",
    "class Transformer(nn.Module):\n",
    "    def __init__(self, encoder, decoder):\n",
    "        super().__init__()\n",
    "        self.encoder = encoder\n",
    "        self.decoder = decoder\n",
    "\n",
    "    def forward(self, enc_input, dec_input, enc_mask, dec_mask):\n",
    "        enc_output = self.encoder(enc_input, enc_mask)\n",
    "        dec_output = self.decoder(enc_output, dec_input, enc_mask, dec_mask)\n",
    "        return dec_output\n"
   ],
   "id": "a21180ddffbde73f",
   "outputs": [],
   "execution_count": 2
  },
  {
   "metadata": {
    "ExecuteTime": {
     "end_time": "2024-09-27T05:35:43.563477Z",
     "start_time": "2024-09-27T05:35:43.444478Z"
    }
   },
   "cell_type": "code",
   "source": [
    "encoder = Encoder(vocab_size=20_000,\n",
    "                  max_len=512,\n",
    "                  d_k=16,\n",
    "                  d_model=64,\n",
    "                  n_heads=4,\n",
    "                  n_layers=2,\n",
    "                  dropout_prob=0.1)\n",
    "decoder = Decoder(vocab_size=10_000,\n",
    "                  max_len=512,\n",
    "                  d_k=16,\n",
    "                  d_model=64,\n",
    "                  n_heads=4,\n",
    "                  n_layers=2,\n",
    "                  dropout_prob=0.1)\n",
    "transformer = Transformer(encoder, decoder)"
   ],
   "id": "4f9642ab199f58d0",
   "outputs": [],
   "execution_count": 3
  },
  {
   "metadata": {
    "ExecuteTime": {
     "end_time": "2024-09-27T05:35:45.300898Z",
     "start_time": "2024-09-27T05:35:44.986510Z"
    }
   },
   "cell_type": "code",
   "source": [
    "device = torch.device('cuda:0' if torch.cuda.is_available() else 'cpu')\n",
    "print(device)\n",
    "encoder.to(device)\n",
    "decoder.to(device)\n",
    "transformer.to(device)\n"
   ],
   "id": "8d67a97a601bc76",
   "outputs": [
    {
     "name": "stdout",
     "output_type": "stream",
     "text": [
      "cuda:0\n"
     ]
    },
    {
     "data": {
      "text/plain": [
       "Transformer(\n",
       "  (encoder): Encoder(\n",
       "    (embedding): Embedding(20000, 64)\n",
       "    (pos_encoding): PositionalEncoding(\n",
       "      (dropout): Dropout(p=0.1, inplace=False)\n",
       "    )\n",
       "    (transformer_blocks): Sequential(\n",
       "      (0): EncoderBlock(\n",
       "        (ln1): LayerNorm((64,), eps=1e-05, elementwise_affine=True)\n",
       "        (ln2): LayerNorm((64,), eps=1e-05, elementwise_affine=True)\n",
       "        (mha): MultiHeadAttention(\n",
       "          (key): Linear(in_features=64, out_features=64, bias=True)\n",
       "          (query): Linear(in_features=64, out_features=64, bias=True)\n",
       "          (value): Linear(in_features=64, out_features=64, bias=True)\n",
       "          (fc): Linear(in_features=64, out_features=64, bias=True)\n",
       "        )\n",
       "        (ffn): Sequential(\n",
       "          (0): Linear(in_features=64, out_features=256, bias=True)\n",
       "          (1): GELU(approximate='none')\n",
       "          (2): Linear(in_features=256, out_features=64, bias=True)\n",
       "          (3): Dropout(p=0.1, inplace=False)\n",
       "        )\n",
       "        (dropout): Dropout(p=0.1, inplace=False)\n",
       "      )\n",
       "      (1): EncoderBlock(\n",
       "        (ln1): LayerNorm((64,), eps=1e-05, elementwise_affine=True)\n",
       "        (ln2): LayerNorm((64,), eps=1e-05, elementwise_affine=True)\n",
       "        (mha): MultiHeadAttention(\n",
       "          (key): Linear(in_features=64, out_features=64, bias=True)\n",
       "          (query): Linear(in_features=64, out_features=64, bias=True)\n",
       "          (value): Linear(in_features=64, out_features=64, bias=True)\n",
       "          (fc): Linear(in_features=64, out_features=64, bias=True)\n",
       "        )\n",
       "        (ffn): Sequential(\n",
       "          (0): Linear(in_features=64, out_features=256, bias=True)\n",
       "          (1): GELU(approximate='none')\n",
       "          (2): Linear(in_features=256, out_features=64, bias=True)\n",
       "          (3): Dropout(p=0.1, inplace=False)\n",
       "        )\n",
       "        (dropout): Dropout(p=0.1, inplace=False)\n",
       "      )\n",
       "    )\n",
       "    (ln): LayerNorm((64,), eps=1e-05, elementwise_affine=True)\n",
       "  )\n",
       "  (decoder): Decoder(\n",
       "    (embedding): Embedding(10000, 64)\n",
       "    (pos_encoding): PositionalEncoding(\n",
       "      (dropout): Dropout(p=0.1, inplace=False)\n",
       "    )\n",
       "    (transformer_blocks): Sequential(\n",
       "      (0): DecoderBlock(\n",
       "        (ln1): LayerNorm((64,), eps=1e-05, elementwise_affine=True)\n",
       "        (ln2): LayerNorm((64,), eps=1e-05, elementwise_affine=True)\n",
       "        (ln3): LayerNorm((64,), eps=1e-05, elementwise_affine=True)\n",
       "        (mha1): MultiHeadAttention(\n",
       "          (key): Linear(in_features=64, out_features=64, bias=True)\n",
       "          (query): Linear(in_features=64, out_features=64, bias=True)\n",
       "          (value): Linear(in_features=64, out_features=64, bias=True)\n",
       "          (fc): Linear(in_features=64, out_features=64, bias=True)\n",
       "        )\n",
       "        (mha2): MultiHeadAttention(\n",
       "          (key): Linear(in_features=64, out_features=64, bias=True)\n",
       "          (query): Linear(in_features=64, out_features=64, bias=True)\n",
       "          (value): Linear(in_features=64, out_features=64, bias=True)\n",
       "          (fc): Linear(in_features=64, out_features=64, bias=True)\n",
       "        )\n",
       "        (ffn): Sequential(\n",
       "          (0): Linear(in_features=64, out_features=256, bias=True)\n",
       "          (1): GELU(approximate='none')\n",
       "          (2): Linear(in_features=256, out_features=64, bias=True)\n",
       "          (3): Dropout(p=0.1, inplace=False)\n",
       "        )\n",
       "        (dropout): Dropout(p=0.1, inplace=False)\n",
       "      )\n",
       "      (1): DecoderBlock(\n",
       "        (ln1): LayerNorm((64,), eps=1e-05, elementwise_affine=True)\n",
       "        (ln2): LayerNorm((64,), eps=1e-05, elementwise_affine=True)\n",
       "        (ln3): LayerNorm((64,), eps=1e-05, elementwise_affine=True)\n",
       "        (mha1): MultiHeadAttention(\n",
       "          (key): Linear(in_features=64, out_features=64, bias=True)\n",
       "          (query): Linear(in_features=64, out_features=64, bias=True)\n",
       "          (value): Linear(in_features=64, out_features=64, bias=True)\n",
       "          (fc): Linear(in_features=64, out_features=64, bias=True)\n",
       "        )\n",
       "        (mha2): MultiHeadAttention(\n",
       "          (key): Linear(in_features=64, out_features=64, bias=True)\n",
       "          (query): Linear(in_features=64, out_features=64, bias=True)\n",
       "          (value): Linear(in_features=64, out_features=64, bias=True)\n",
       "          (fc): Linear(in_features=64, out_features=64, bias=True)\n",
       "        )\n",
       "        (ffn): Sequential(\n",
       "          (0): Linear(in_features=64, out_features=256, bias=True)\n",
       "          (1): GELU(approximate='none')\n",
       "          (2): Linear(in_features=256, out_features=64, bias=True)\n",
       "          (3): Dropout(p=0.1, inplace=False)\n",
       "        )\n",
       "        (dropout): Dropout(p=0.1, inplace=False)\n",
       "      )\n",
       "    )\n",
       "    (ln): LayerNorm((64,), eps=1e-05, elementwise_affine=True)\n",
       "    (fc): Linear(in_features=64, out_features=10000, bias=True)\n",
       "  )\n",
       ")"
      ]
     },
     "execution_count": 4,
     "metadata": {},
     "output_type": "execute_result"
    }
   ],
   "execution_count": 4
  },
  {
   "metadata": {
    "ExecuteTime": {
     "end_time": "2024-09-27T05:35:46.569Z",
     "start_time": "2024-09-27T05:35:46.551863Z"
    }
   },
   "cell_type": "code",
   "source": [
    "\n",
    "import numpy as np\n",
    "import torch\n",
    "\n",
    "# Generate input data as integers for embedding, but convert to float32 for further processing\n",
    "xe = np.random.randint(0, 20_000, size=[8, 512]) # B x Seq Length\n",
    "xe_t = torch.tensor(xe, dtype=torch.long).to(device)  # Use Long type for embedding indices\n",
    "\n",
    "xd = np.random.randint(0, 10_000, size=[8, 256]) # B x Seq Length\n",
    "xd_t = torch.tensor(xd, dtype=torch.long).to(device)  # Use Long type for embedding indices\n",
    "\n",
    "# Create masks as float32\n",
    "maske = np.ones((8, 512), dtype=np.float32)\n",
    "maske[:, 256:] = 0\n",
    "maske_t = torch.tensor(maske, dtype=torch.float32).to(device)\n",
    "\n",
    "maskd = np.ones((8, 256), dtype=np.float32)\n",
    "maskd[:, 128:] = 0\n",
    "maskd_t = torch.tensor(maskd, dtype=torch.float32).to(device)\n",
    "\n",
    "# Convert input tensors and masks to float32 (although xe_t and xd_t are already long for embeddings)\n",
    "maske_t = maske_t.to(torch.float32)\n",
    "maskd_t = maskd_t.to(torch.float32)"
   ],
   "id": "3745aab7ef6ec567",
   "outputs": [],
   "execution_count": 5
  },
  {
   "metadata": {
    "ExecuteTime": {
     "end_time": "2024-09-27T05:35:48.405046Z",
     "start_time": "2024-09-27T05:35:48.039196Z"
    }
   },
   "cell_type": "code",
   "source": [
    "# Assuming transformer is your model\n",
    "# Forward pass\n",
    "print(\"shapeshape is \" + str(xd_t.shape))\n",
    "out = transformer(xe_t, xd_t, maske_t, maskd_t)\n",
    "print(out.shape)  # Output shape check"
   ],
   "id": "37d4a9270855a4a4",
   "outputs": [
    {
     "name": "stdout",
     "output_type": "stream",
     "text": [
      "shapeshape is torch.Size([8, 256])\n",
      "torch.Size([8, 256, 10000])\n"
     ]
    }
   ],
   "execution_count": 6
  },
  {
   "metadata": {
    "ExecuteTime": {
     "end_time": "2024-09-27T05:35:51.012496Z",
     "start_time": "2024-09-27T05:35:49.559163Z"
    }
   },
   "cell_type": "code",
   "source": [
    "import pandas as pd\n",
    "df = pd.read_csv('spa.txt', sep=\"\\t\", header=None)\n",
    "df.head()"
   ],
   "id": "53cfd0d25ceb4c8e",
   "outputs": [
    {
     "data": {
      "text/plain": [
       "      0        1\n",
       "0   Go.      Ve.\n",
       "1   Go.    Vete.\n",
       "2   Go.    Vaya.\n",
       "3   Hi.    Hola.\n",
       "4  Run!  ¡Corre!"
      ],
      "text/html": [
       "<div>\n",
       "<style scoped>\n",
       "    .dataframe tbody tr th:only-of-type {\n",
       "        vertical-align: middle;\n",
       "    }\n",
       "\n",
       "    .dataframe tbody tr th {\n",
       "        vertical-align: top;\n",
       "    }\n",
       "\n",
       "    .dataframe thead th {\n",
       "        text-align: right;\n",
       "    }\n",
       "</style>\n",
       "<table border=\"1\" class=\"dataframe\">\n",
       "  <thead>\n",
       "    <tr style=\"text-align: right;\">\n",
       "      <th></th>\n",
       "      <th>0</th>\n",
       "      <th>1</th>\n",
       "    </tr>\n",
       "  </thead>\n",
       "  <tbody>\n",
       "    <tr>\n",
       "      <th>0</th>\n",
       "      <td>Go.</td>\n",
       "      <td>Ve.</td>\n",
       "    </tr>\n",
       "    <tr>\n",
       "      <th>1</th>\n",
       "      <td>Go.</td>\n",
       "      <td>Vete.</td>\n",
       "    </tr>\n",
       "    <tr>\n",
       "      <th>2</th>\n",
       "      <td>Go.</td>\n",
       "      <td>Vaya.</td>\n",
       "    </tr>\n",
       "    <tr>\n",
       "      <th>3</th>\n",
       "      <td>Hi.</td>\n",
       "      <td>Hola.</td>\n",
       "    </tr>\n",
       "    <tr>\n",
       "      <th>4</th>\n",
       "      <td>Run!</td>\n",
       "      <td>¡Corre!</td>\n",
       "    </tr>\n",
       "  </tbody>\n",
       "</table>\n",
       "</div>"
      ]
     },
     "execution_count": 7,
     "metadata": {},
     "output_type": "execute_result"
    }
   ],
   "execution_count": 7
  },
  {
   "metadata": {
    "ExecuteTime": {
     "end_time": "2024-09-27T05:35:55.677398Z",
     "start_time": "2024-09-27T05:35:55.673173Z"
    }
   },
   "cell_type": "code",
   "source": "df.shape",
   "id": "ef8b5757f22a7f1e",
   "outputs": [
    {
     "data": {
      "text/plain": [
       "(115245, 2)"
      ]
     },
     "execution_count": 8,
     "metadata": {},
     "output_type": "execute_result"
    }
   ],
   "execution_count": 8
  },
  {
   "metadata": {
    "ExecuteTime": {
     "end_time": "2024-09-27T05:35:57.091787Z",
     "start_time": "2024-09-27T05:35:57.049595Z"
    }
   },
   "cell_type": "code",
   "source": [
    "df = df.iloc[:30_000]\n",
    "df.columns = ['en', 'es']\n",
    "df.to_csv('spa.csv', index=None)"
   ],
   "id": "f29fcf8969baf66a",
   "outputs": [],
   "execution_count": 9
  },
  {
   "metadata": {
    "ExecuteTime": {
     "end_time": "2024-09-27T05:36:00.786563Z",
     "start_time": "2024-09-27T05:35:58.402938Z"
    }
   },
   "cell_type": "code",
   "source": [
    "from datasets import load_dataset\n",
    "raw_dataset = load_dataset('csv', data_files='spa.csv')"
   ],
   "id": "de9ae611f06c09b0",
   "outputs": [
    {
     "data": {
      "text/plain": [
       "Generating train split: 0 examples [00:00, ? examples/s]"
      ],
      "application/vnd.jupyter.widget-view+json": {
       "version_major": 2,
       "version_minor": 0,
       "model_id": "c5b8c32182bb414a8af8b7a88ee20c5e"
      }
     },
     "metadata": {},
     "output_type": "display_data"
    }
   ],
   "execution_count": 10
  },
  {
   "metadata": {
    "ExecuteTime": {
     "end_time": "2024-09-27T05:36:05.777311Z",
     "start_time": "2024-09-27T05:36:05.772993Z"
    }
   },
   "cell_type": "code",
   "source": "raw_dataset",
   "id": "3b811c1664705ebc",
   "outputs": [
    {
     "data": {
      "text/plain": [
       "DatasetDict({\n",
       "    train: Dataset({\n",
       "        features: ['en', 'es'],\n",
       "        num_rows: 30000\n",
       "    })\n",
       "})"
      ]
     },
     "execution_count": 11,
     "metadata": {},
     "output_type": "execute_result"
    }
   ],
   "execution_count": 11
  },
  {
   "metadata": {
    "ExecuteTime": {
     "end_time": "2024-09-27T05:36:07.258463Z",
     "start_time": "2024-09-27T05:36:07.218853Z"
    }
   },
   "cell_type": "code",
   "source": [
    "split = raw_dataset['train'].train_test_split(test_size=0.3, seed=42)\n",
    "split"
   ],
   "id": "eaf146bac3f3a0b5",
   "outputs": [
    {
     "data": {
      "text/plain": [
       "DatasetDict({\n",
       "    train: Dataset({\n",
       "        features: ['en', 'es'],\n",
       "        num_rows: 21000\n",
       "    })\n",
       "    test: Dataset({\n",
       "        features: ['en', 'es'],\n",
       "        num_rows: 9000\n",
       "    })\n",
       "})"
      ]
     },
     "execution_count": 12,
     "metadata": {},
     "output_type": "execute_result"
    }
   ],
   "execution_count": 12
  },
  {
   "metadata": {
    "ExecuteTime": {
     "end_time": "2024-09-27T05:36:10.319328Z",
     "start_time": "2024-09-27T05:36:08.642636Z"
    }
   },
   "cell_type": "code",
   "source": [
    "from transformers import AutoTokenizer\n",
    "\n",
    "model_checkpoint = \"Helsinki-NLP/opus-mt-en-es\"\n",
    "tokenizer = AutoTokenizer.from_pretrained(model_checkpoint)"
   ],
   "id": "fd2eb8d23ad7cc3b",
   "outputs": [],
   "execution_count": 13
  },
  {
   "metadata": {
    "ExecuteTime": {
     "end_time": "2024-09-27T05:36:11.257900Z",
     "start_time": "2024-09-27T05:36:11.242231Z"
    }
   },
   "cell_type": "code",
   "source": [
    "en_sentence = split[\"train\"][0][\"en\"]\n",
    "es_sentence = split[\"train\"][0][\"es\"]\n",
    "\n",
    "inputs = tokenizer(en_sentence)\n",
    "targets = tokenizer(text_target=es_sentence)\n",
    "\n",
    "tokenizer.convert_ids_to_tokens(targets['input_ids'])"
   ],
   "id": "ce79971560b86318",
   "outputs": [
    {
     "data": {
      "text/plain": [
       "['▁Yo', '▁puedo', '▁arreglarlo', '.', '</s>']"
      ]
     },
     "execution_count": 14,
     "metadata": {},
     "output_type": "execute_result"
    }
   ],
   "execution_count": 14
  },
  {
   "metadata": {
    "ExecuteTime": {
     "end_time": "2024-09-27T05:36:13.009176Z",
     "start_time": "2024-09-27T05:36:13.004569Z"
    }
   },
   "cell_type": "code",
   "source": "es_sentence",
   "id": "988ab58ba15aaa35",
   "outputs": [
    {
     "data": {
      "text/plain": [
       "'Yo puedo arreglarlo.'"
      ]
     },
     "execution_count": 15,
     "metadata": {},
     "output_type": "execute_result"
    }
   ],
   "execution_count": 15
  },
  {
   "metadata": {
    "ExecuteTime": {
     "end_time": "2024-09-27T05:36:14.768063Z",
     "start_time": "2024-09-27T05:36:14.763866Z"
    }
   },
   "cell_type": "code",
   "source": [
    "max_input_length = 128\n",
    "max_target_length = 128\n",
    "\n",
    "def preprocess_function(batch):\n",
    "    model_inputs = tokenizer(batch['en'], max_length=max_input_length, truncation=True)\n",
    "    labels = tokenizer(text_target=batch['es'], max_length=max_target_length, truncation=True)\n",
    "    \n",
    "    model_inputs[\"labels\"] = labels[\"input_ids\"]\n",
    "    return model_inputs"
   ],
   "id": "651c826d2fa72e3f",
   "outputs": [],
   "execution_count": 16
  },
  {
   "metadata": {
    "ExecuteTime": {
     "end_time": "2024-09-27T05:36:20.125983Z",
     "start_time": "2024-09-27T05:36:16.333241Z"
    }
   },
   "cell_type": "code",
   "source": "tokenized_datasets = split.map(preprocess_function, batched=True, remove_columns=split[\"train\"].column_names)",
   "id": "9cbc98b4b9650c5f",
   "outputs": [
    {
     "data": {
      "text/plain": [
       "Map:   0%|          | 0/21000 [00:00<?, ? examples/s]"
      ],
      "application/vnd.jupyter.widget-view+json": {
       "version_major": 2,
       "version_minor": 0,
       "model_id": "230a705466fd43ae85067aa898f02638"
      }
     },
     "metadata": {},
     "output_type": "display_data"
    },
    {
     "data": {
      "text/plain": [
       "Map:   0%|          | 0/9000 [00:00<?, ? examples/s]"
      ],
      "application/vnd.jupyter.widget-view+json": {
       "version_major": 2,
       "version_minor": 0,
       "model_id": "6b53cf968c574474afed3840d50deaf9"
      }
     },
     "metadata": {},
     "output_type": "display_data"
    }
   ],
   "execution_count": 17
  },
  {
   "metadata": {
    "ExecuteTime": {
     "end_time": "2024-09-27T05:36:22.912491Z",
     "start_time": "2024-09-27T05:36:22.907965Z"
    }
   },
   "cell_type": "code",
   "source": "tokenized_datasets",
   "id": "636cb10ac3a8b444",
   "outputs": [
    {
     "data": {
      "text/plain": [
       "DatasetDict({\n",
       "    train: Dataset({\n",
       "        features: ['input_ids', 'attention_mask', 'labels'],\n",
       "        num_rows: 21000\n",
       "    })\n",
       "    test: Dataset({\n",
       "        features: ['input_ids', 'attention_mask', 'labels'],\n",
       "        num_rows: 9000\n",
       "    })\n",
       "})"
      ]
     },
     "execution_count": 18,
     "metadata": {},
     "output_type": "execute_result"
    }
   ],
   "execution_count": 18
  },
  {
   "metadata": {
    "ExecuteTime": {
     "end_time": "2024-09-27T05:36:25.661092Z",
     "start_time": "2024-09-27T05:36:24.444503Z"
    }
   },
   "cell_type": "code",
   "source": [
    "from transformers import DataCollatorForSeq2Seq\n",
    "\n",
    "data_collator = DataCollatorForSeq2Seq(tokenizer)"
   ],
   "id": "d556286fd73d81d6",
   "outputs": [],
   "execution_count": 19
  },
  {
   "metadata": {
    "ExecuteTime": {
     "end_time": "2024-09-27T05:36:26.397899Z",
     "start_time": "2024-09-27T05:36:26.388041Z"
    }
   },
   "cell_type": "code",
   "source": [
    "batch = data_collator([tokenized_datasets[\"train\"][i] for i in range(0, 5)])\n",
    "batch.keys()"
   ],
   "id": "7a755b84928b9239",
   "outputs": [
    {
     "data": {
      "text/plain": [
       "dict_keys(['input_ids', 'attention_mask', 'labels'])"
      ]
     },
     "execution_count": 20,
     "metadata": {},
     "output_type": "execute_result"
    }
   ],
   "execution_count": 20
  },
  {
   "metadata": {
    "ExecuteTime": {
     "end_time": "2024-09-27T05:36:27.912084Z",
     "start_time": "2024-09-27T05:36:27.906132Z"
    }
   },
   "cell_type": "code",
   "source": "batch['input_ids']",
   "id": "a77d546c0e484d20",
   "outputs": [
    {
     "data": {
      "text/plain": [
       "tensor([[   33,    88,  9222,    48,     3,     0, 65000, 65000],\n",
       "        [  552, 11490,     9,   310,   255,     3,     0, 65000],\n",
       "        [  143,    31,   125,  1208,     3,     0, 65000, 65000],\n",
       "        [ 1093,   220,  1890,    23,    48,     3,     0, 65000],\n",
       "        [  124,    20,   100, 18422,    48,   141,     3,     0]])"
      ]
     },
     "execution_count": 21,
     "metadata": {},
     "output_type": "execute_result"
    }
   ],
   "execution_count": 21
  },
  {
   "metadata": {
    "ExecuteTime": {
     "end_time": "2024-09-27T05:36:28.648843Z",
     "start_time": "2024-09-27T05:36:28.643029Z"
    }
   },
   "cell_type": "code",
   "source": "batch['attention_mask']",
   "id": "97e73a76291caebb",
   "outputs": [
    {
     "data": {
      "text/plain": [
       "tensor([[1, 1, 1, 1, 1, 1, 0, 0],\n",
       "        [1, 1, 1, 1, 1, 1, 1, 0],\n",
       "        [1, 1, 1, 1, 1, 1, 0, 0],\n",
       "        [1, 1, 1, 1, 1, 1, 1, 0],\n",
       "        [1, 1, 1, 1, 1, 1, 1, 1]])"
      ]
     },
     "execution_count": 22,
     "metadata": {},
     "output_type": "execute_result"
    }
   ],
   "execution_count": 22
  },
  {
   "metadata": {
    "ExecuteTime": {
     "end_time": "2024-09-27T05:36:29.365118Z",
     "start_time": "2024-09-27T05:36:29.359689Z"
    }
   },
   "cell_type": "code",
   "source": "batch['labels']",
   "id": "c693feab2fb6cee6",
   "outputs": [
    {
     "data": {
      "text/plain": [
       "tensor([[  711,  1039, 44159,     3,     0,  -100,  -100,  -100],\n",
       "        [ 2722, 18663,   239,   212,     3,     0,  -100,  -100],\n",
       "        [  539,    43,   155,   960,     3,     0,  -100,  -100],\n",
       "        [15165,  1250,   380,  3564,    36,  1016,     3,     0],\n",
       "        [  350,     8, 19153,    29, 31326,     3,     0,  -100]])"
      ]
     },
     "execution_count": 23,
     "metadata": {},
     "output_type": "execute_result"
    }
   ],
   "execution_count": 23
  },
  {
   "metadata": {
    "ExecuteTime": {
     "end_time": "2024-09-27T05:36:30.678743Z",
     "start_time": "2024-09-27T05:36:30.674288Z"
    }
   },
   "cell_type": "code",
   "source": "tokenizer.all_special_ids",
   "id": "d2dd14b83695a841",
   "outputs": [
    {
     "data": {
      "text/plain": [
       "[0, 1, 65000]"
      ]
     },
     "execution_count": 24,
     "metadata": {},
     "output_type": "execute_result"
    }
   ],
   "execution_count": 24
  },
  {
   "metadata": {
    "ExecuteTime": {
     "end_time": "2024-09-27T05:36:31.448020Z",
     "start_time": "2024-09-27T05:36:31.443080Z"
    }
   },
   "cell_type": "code",
   "source": "tokenizer.all_special_tokens",
   "id": "6af7544fd2058229",
   "outputs": [
    {
     "data": {
      "text/plain": [
       "['</s>', '<unk>', '<pad>']"
      ]
     },
     "execution_count": 25,
     "metadata": {},
     "output_type": "execute_result"
    }
   ],
   "execution_count": 25
  },
  {
   "metadata": {
    "ExecuteTime": {
     "end_time": "2024-09-27T05:36:32.062880Z",
     "start_time": "2024-09-27T05:36:32.058044Z"
    }
   },
   "cell_type": "code",
   "source": "tokenizer('<pad>')",
   "id": "b60cad6cff105d0",
   "outputs": [
    {
     "data": {
      "text/plain": [
       "{'input_ids': [65000, 0], 'attention_mask': [1, 1]}"
      ]
     },
     "execution_count": 26,
     "metadata": {},
     "output_type": "execute_result"
    }
   ],
   "execution_count": 26
  },
  {
   "metadata": {
    "ExecuteTime": {
     "end_time": "2024-09-27T05:36:32.966423Z",
     "start_time": "2024-09-27T05:36:32.962426Z"
    }
   },
   "cell_type": "code",
   "source": [
    "from torch.utils.data import DataLoader\n",
    "\n",
    "train_loader = DataLoader(\n",
    "    tokenized_datasets[\"train\"],\n",
    "    shuffle=True,\n",
    "    batch_size=32,\n",
    "    collate_fn=data_collator\n",
    ")\n",
    "valid_loader = DataLoader(\n",
    "    tokenized_datasets[\"test\"],\n",
    "    batch_size=32,\n",
    "    collate_fn=data_collator\n",
    ")"
   ],
   "id": "428a4effb323bd74",
   "outputs": [],
   "execution_count": 27
  },
  {
   "metadata": {
    "ExecuteTime": {
     "end_time": "2024-09-27T05:36:34.329369Z",
     "start_time": "2024-09-27T05:36:34.305307Z"
    }
   },
   "cell_type": "code",
   "source": [
    "for batch in train_loader:\n",
    "    for k, v in batch.items():\n",
    "        print(\"k:\", k, \"v.shape:\", v.shape)\n",
    "    break"
   ],
   "id": "bd5becc5f2cb32eb",
   "outputs": [
    {
     "name": "stdout",
     "output_type": "stream",
     "text": [
      "k: input_ids v.shape: torch.Size([32, 9])\n",
      "k: attention_mask v.shape: torch.Size([32, 9])\n",
      "k: labels v.shape: torch.Size([32, 9])\n"
     ]
    }
   ],
   "execution_count": 28
  },
  {
   "metadata": {
    "ExecuteTime": {
     "end_time": "2024-09-27T05:36:35.840537Z",
     "start_time": "2024-09-27T05:36:35.836468Z"
    }
   },
   "cell_type": "code",
   "source": "tokenizer.vocab_size",
   "id": "cad05173f5a047d1",
   "outputs": [
    {
     "data": {
      "text/plain": [
       "65001"
      ]
     },
     "execution_count": 29,
     "metadata": {},
     "output_type": "execute_result"
    }
   ],
   "execution_count": 29
  },
  {
   "metadata": {
    "ExecuteTime": {
     "end_time": "2024-09-27T05:36:36.727724Z",
     "start_time": "2024-09-27T05:36:36.721723Z"
    }
   },
   "cell_type": "code",
   "source": "tokenizer.decode([60000])",
   "id": "4d6fc03a840fae67",
   "outputs": [
    {
     "data": {
      "text/plain": [
       "'ѕэр'"
      ]
     },
     "execution_count": 30,
     "metadata": {},
     "output_type": "execute_result"
    }
   ],
   "execution_count": 30
  },
  {
   "metadata": {
    "ExecuteTime": {
     "end_time": "2024-09-27T05:36:37.487233Z",
     "start_time": "2024-09-27T05:36:37.472236Z"
    }
   },
   "cell_type": "code",
   "source": [
    "tokenizer.add_special_tokens({\"cls_token\": \"<s>\"})\n",
    "tokenizer(\"<s>\")"
   ],
   "id": "a7020bfdd73b45c4",
   "outputs": [
    {
     "data": {
      "text/plain": [
       "{'input_ids': [65001, 0], 'attention_mask': [1, 1]}"
      ]
     },
     "execution_count": 31,
     "metadata": {},
     "output_type": "execute_result"
    }
   ],
   "execution_count": 31
  },
  {
   "metadata": {
    "ExecuteTime": {
     "end_time": "2024-09-27T05:36:38.822177Z",
     "start_time": "2024-09-27T05:36:38.818263Z"
    }
   },
   "cell_type": "code",
   "source": "tokenizer.vocab_size",
   "id": "d6ab1f4292f014ef",
   "outputs": [
    {
     "data": {
      "text/plain": [
       "65001"
      ]
     },
     "execution_count": 32,
     "metadata": {},
     "output_type": "execute_result"
    }
   ],
   "execution_count": 32
  },
  {
   "metadata": {
    "ExecuteTime": {
     "end_time": "2024-09-27T05:36:40.361365Z",
     "start_time": "2024-09-27T05:36:40.146432Z"
    }
   },
   "cell_type": "code",
   "source": [
    "encoder = Encoder(vocab_size = tokenizer.vocab_size + 1,\n",
    "                  max_len=512,\n",
    "                  d_k=16,\n",
    "                  d_model=64,\n",
    "                  n_heads=4,\n",
    "                  n_layers=2,\n",
    "                  dropout_prob=0.1)\n",
    "decoder = Decoder(vocab_size = tokenizer.vocab_size + 1,\n",
    "                  max_len=512,\n",
    "                  d_k=16,\n",
    "                  d_model=64,\n",
    "                  n_heads=4,\n",
    "                  n_layers=2,\n",
    "                  dropout_prob=0.1)\n",
    "transformer = Transformer(encoder, decoder)\n",
    "transformer.to(device)"
   ],
   "id": "b700023f19293fc3",
   "outputs": [
    {
     "data": {
      "text/plain": [
       "Transformer(\n",
       "  (encoder): Encoder(\n",
       "    (embedding): Embedding(65002, 64)\n",
       "    (pos_encoding): PositionalEncoding(\n",
       "      (dropout): Dropout(p=0.1, inplace=False)\n",
       "    )\n",
       "    (transformer_blocks): Sequential(\n",
       "      (0): EncoderBlock(\n",
       "        (ln1): LayerNorm((64,), eps=1e-05, elementwise_affine=True)\n",
       "        (ln2): LayerNorm((64,), eps=1e-05, elementwise_affine=True)\n",
       "        (mha): MultiHeadAttention(\n",
       "          (key): Linear(in_features=64, out_features=64, bias=True)\n",
       "          (query): Linear(in_features=64, out_features=64, bias=True)\n",
       "          (value): Linear(in_features=64, out_features=64, bias=True)\n",
       "          (fc): Linear(in_features=64, out_features=64, bias=True)\n",
       "        )\n",
       "        (ffn): Sequential(\n",
       "          (0): Linear(in_features=64, out_features=256, bias=True)\n",
       "          (1): GELU(approximate='none')\n",
       "          (2): Linear(in_features=256, out_features=64, bias=True)\n",
       "          (3): Dropout(p=0.1, inplace=False)\n",
       "        )\n",
       "        (dropout): Dropout(p=0.1, inplace=False)\n",
       "      )\n",
       "      (1): EncoderBlock(\n",
       "        (ln1): LayerNorm((64,), eps=1e-05, elementwise_affine=True)\n",
       "        (ln2): LayerNorm((64,), eps=1e-05, elementwise_affine=True)\n",
       "        (mha): MultiHeadAttention(\n",
       "          (key): Linear(in_features=64, out_features=64, bias=True)\n",
       "          (query): Linear(in_features=64, out_features=64, bias=True)\n",
       "          (value): Linear(in_features=64, out_features=64, bias=True)\n",
       "          (fc): Linear(in_features=64, out_features=64, bias=True)\n",
       "        )\n",
       "        (ffn): Sequential(\n",
       "          (0): Linear(in_features=64, out_features=256, bias=True)\n",
       "          (1): GELU(approximate='none')\n",
       "          (2): Linear(in_features=256, out_features=64, bias=True)\n",
       "          (3): Dropout(p=0.1, inplace=False)\n",
       "        )\n",
       "        (dropout): Dropout(p=0.1, inplace=False)\n",
       "      )\n",
       "    )\n",
       "    (ln): LayerNorm((64,), eps=1e-05, elementwise_affine=True)\n",
       "  )\n",
       "  (decoder): Decoder(\n",
       "    (embedding): Embedding(65002, 64)\n",
       "    (pos_encoding): PositionalEncoding(\n",
       "      (dropout): Dropout(p=0.1, inplace=False)\n",
       "    )\n",
       "    (transformer_blocks): Sequential(\n",
       "      (0): DecoderBlock(\n",
       "        (ln1): LayerNorm((64,), eps=1e-05, elementwise_affine=True)\n",
       "        (ln2): LayerNorm((64,), eps=1e-05, elementwise_affine=True)\n",
       "        (ln3): LayerNorm((64,), eps=1e-05, elementwise_affine=True)\n",
       "        (mha1): MultiHeadAttention(\n",
       "          (key): Linear(in_features=64, out_features=64, bias=True)\n",
       "          (query): Linear(in_features=64, out_features=64, bias=True)\n",
       "          (value): Linear(in_features=64, out_features=64, bias=True)\n",
       "          (fc): Linear(in_features=64, out_features=64, bias=True)\n",
       "        )\n",
       "        (mha2): MultiHeadAttention(\n",
       "          (key): Linear(in_features=64, out_features=64, bias=True)\n",
       "          (query): Linear(in_features=64, out_features=64, bias=True)\n",
       "          (value): Linear(in_features=64, out_features=64, bias=True)\n",
       "          (fc): Linear(in_features=64, out_features=64, bias=True)\n",
       "        )\n",
       "        (ffn): Sequential(\n",
       "          (0): Linear(in_features=64, out_features=256, bias=True)\n",
       "          (1): GELU(approximate='none')\n",
       "          (2): Linear(in_features=256, out_features=64, bias=True)\n",
       "          (3): Dropout(p=0.1, inplace=False)\n",
       "        )\n",
       "        (dropout): Dropout(p=0.1, inplace=False)\n",
       "      )\n",
       "      (1): DecoderBlock(\n",
       "        (ln1): LayerNorm((64,), eps=1e-05, elementwise_affine=True)\n",
       "        (ln2): LayerNorm((64,), eps=1e-05, elementwise_affine=True)\n",
       "        (ln3): LayerNorm((64,), eps=1e-05, elementwise_affine=True)\n",
       "        (mha1): MultiHeadAttention(\n",
       "          (key): Linear(in_features=64, out_features=64, bias=True)\n",
       "          (query): Linear(in_features=64, out_features=64, bias=True)\n",
       "          (value): Linear(in_features=64, out_features=64, bias=True)\n",
       "          (fc): Linear(in_features=64, out_features=64, bias=True)\n",
       "        )\n",
       "        (mha2): MultiHeadAttention(\n",
       "          (key): Linear(in_features=64, out_features=64, bias=True)\n",
       "          (query): Linear(in_features=64, out_features=64, bias=True)\n",
       "          (value): Linear(in_features=64, out_features=64, bias=True)\n",
       "          (fc): Linear(in_features=64, out_features=64, bias=True)\n",
       "        )\n",
       "        (ffn): Sequential(\n",
       "          (0): Linear(in_features=64, out_features=256, bias=True)\n",
       "          (1): GELU(approximate='none')\n",
       "          (2): Linear(in_features=256, out_features=64, bias=True)\n",
       "          (3): Dropout(p=0.1, inplace=False)\n",
       "        )\n",
       "        (dropout): Dropout(p=0.1, inplace=False)\n",
       "      )\n",
       "    )\n",
       "    (ln): LayerNorm((64,), eps=1e-05, elementwise_affine=True)\n",
       "    (fc): Linear(in_features=64, out_features=65002, bias=True)\n",
       "  )\n",
       ")"
      ]
     },
     "execution_count": 33,
     "metadata": {},
     "output_type": "execute_result"
    }
   ],
   "execution_count": 33
  },
  {
   "metadata": {
    "ExecuteTime": {
     "end_time": "2024-09-27T05:36:41.858369Z",
     "start_time": "2024-09-27T05:36:41.851553Z"
    }
   },
   "cell_type": "code",
   "source": [
    "print(device)\n",
    "encoder.to(device)\n",
    "decoder.to(device)"
   ],
   "id": "1b55e745544c76a",
   "outputs": [
    {
     "name": "stdout",
     "output_type": "stream",
     "text": [
      "cuda:0\n"
     ]
    },
    {
     "data": {
      "text/plain": [
       "Decoder(\n",
       "  (embedding): Embedding(65002, 64)\n",
       "  (pos_encoding): PositionalEncoding(\n",
       "    (dropout): Dropout(p=0.1, inplace=False)\n",
       "  )\n",
       "  (transformer_blocks): Sequential(\n",
       "    (0): DecoderBlock(\n",
       "      (ln1): LayerNorm((64,), eps=1e-05, elementwise_affine=True)\n",
       "      (ln2): LayerNorm((64,), eps=1e-05, elementwise_affine=True)\n",
       "      (ln3): LayerNorm((64,), eps=1e-05, elementwise_affine=True)\n",
       "      (mha1): MultiHeadAttention(\n",
       "        (key): Linear(in_features=64, out_features=64, bias=True)\n",
       "        (query): Linear(in_features=64, out_features=64, bias=True)\n",
       "        (value): Linear(in_features=64, out_features=64, bias=True)\n",
       "        (fc): Linear(in_features=64, out_features=64, bias=True)\n",
       "      )\n",
       "      (mha2): MultiHeadAttention(\n",
       "        (key): Linear(in_features=64, out_features=64, bias=True)\n",
       "        (query): Linear(in_features=64, out_features=64, bias=True)\n",
       "        (value): Linear(in_features=64, out_features=64, bias=True)\n",
       "        (fc): Linear(in_features=64, out_features=64, bias=True)\n",
       "      )\n",
       "      (ffn): Sequential(\n",
       "        (0): Linear(in_features=64, out_features=256, bias=True)\n",
       "        (1): GELU(approximate='none')\n",
       "        (2): Linear(in_features=256, out_features=64, bias=True)\n",
       "        (3): Dropout(p=0.1, inplace=False)\n",
       "      )\n",
       "      (dropout): Dropout(p=0.1, inplace=False)\n",
       "    )\n",
       "    (1): DecoderBlock(\n",
       "      (ln1): LayerNorm((64,), eps=1e-05, elementwise_affine=True)\n",
       "      (ln2): LayerNorm((64,), eps=1e-05, elementwise_affine=True)\n",
       "      (ln3): LayerNorm((64,), eps=1e-05, elementwise_affine=True)\n",
       "      (mha1): MultiHeadAttention(\n",
       "        (key): Linear(in_features=64, out_features=64, bias=True)\n",
       "        (query): Linear(in_features=64, out_features=64, bias=True)\n",
       "        (value): Linear(in_features=64, out_features=64, bias=True)\n",
       "        (fc): Linear(in_features=64, out_features=64, bias=True)\n",
       "      )\n",
       "      (mha2): MultiHeadAttention(\n",
       "        (key): Linear(in_features=64, out_features=64, bias=True)\n",
       "        (query): Linear(in_features=64, out_features=64, bias=True)\n",
       "        (value): Linear(in_features=64, out_features=64, bias=True)\n",
       "        (fc): Linear(in_features=64, out_features=64, bias=True)\n",
       "      )\n",
       "      (ffn): Sequential(\n",
       "        (0): Linear(in_features=64, out_features=256, bias=True)\n",
       "        (1): GELU(approximate='none')\n",
       "        (2): Linear(in_features=256, out_features=64, bias=True)\n",
       "        (3): Dropout(p=0.1, inplace=False)\n",
       "      )\n",
       "      (dropout): Dropout(p=0.1, inplace=False)\n",
       "    )\n",
       "  )\n",
       "  (ln): LayerNorm((64,), eps=1e-05, elementwise_affine=True)\n",
       "  (fc): Linear(in_features=64, out_features=65002, bias=True)\n",
       ")"
      ]
     },
     "execution_count": 34,
     "metadata": {},
     "output_type": "execute_result"
    }
   ],
   "execution_count": 34
  },
  {
   "metadata": {
    "ExecuteTime": {
     "end_time": "2024-09-27T05:36:45.253892Z",
     "start_time": "2024-09-27T05:36:42.992914Z"
    }
   },
   "cell_type": "code",
   "source": [
    "criterion = nn.CrossEntropyLoss(ignore_index=-100)\n",
    "optimizer = torch.optim.Adam(transformer.parameters())"
   ],
   "id": "f9994bcacf33a7f3",
   "outputs": [],
   "execution_count": 35
  },
  {
   "metadata": {
    "ExecuteTime": {
     "end_time": "2024-09-27T05:36:46.706931Z",
     "start_time": "2024-09-27T05:36:46.696311Z"
    }
   },
   "cell_type": "code",
   "source": [
    "from datetime import datetime\n",
    "import os\n",
    "os.environ['CUDA_LAUNCH_BLOCKING'] = \"1\"\n",
    "\n",
    "\n",
    "def train(model, criterion, optimizer, train_loader, valid_loader, epochs):\n",
    "    train_losses = np.zeros(epochs)\n",
    "    test_losses = np.zeros(epochs)\n",
    "    \n",
    "    for it in range(epochs):\n",
    "        model.train()\n",
    "        t0 = datetime.now()\n",
    "        train_loss = []\n",
    "        for batch in train_loader:\n",
    "            batch = {k: v.to(device) for k, v in batch.items()}\n",
    "            optimizer.zero_grad()\n",
    "            \n",
    "            enc_input = batch['input_ids']\n",
    "            enc_mask = batch['attention_mask']\n",
    "            targets = batch['labels']\n",
    "            \n",
    "            dec_input = targets.clone().detach()\n",
    "            dec_input = torch.roll(dec_input, shifts=1, dims=1)\n",
    "            dec_input[:, 0] = 65_001\n",
    "            \n",
    "            dec_input = dec_input.masked_fill(dec_input == -100, tokenizer.pad_token_id)\n",
    "            \n",
    "            dec_mask = torch.ones_like(dec_input)\n",
    "            dec_mask = dec_mask.masked_fill(dec_input == tokenizer.pad_token_id, 0)\n",
    "            \n",
    "            outputs = model(enc_input, dec_input, enc_mask, dec_mask)\n",
    "            loss = criterion(outputs.transpose(2, 1), targets)\n",
    "            \n",
    "            loss.backward()\n",
    "            optimizer.step()\n",
    "            train_loss.append(loss.item())\n",
    "            \n",
    "        train_loss = np.mean(train_loss)\n",
    "        \n",
    "        model.eval()\n",
    "        test_loss = []\n",
    "        for batch in valid_loader:\n",
    "            batch = {k: v.to(device) for k, v in batch.items()}\n",
    "            \n",
    "            enc_input = batch['input_ids']\n",
    "            enc_mask = batch['attention_mask']\n",
    "            targets = batch['labels']\n",
    "            \n",
    "            dec_input = targets.clone().detach()\n",
    "            dec_input = torch.roll(dec_input, shifts=1, dims=1)\n",
    "            dec_input[:, 0] = 65_001\n",
    "            \n",
    "            dec_input = dec_input.masked_fill(dec_input == -100, tokenizer.pad_token_id)\n",
    "            \n",
    "            dec_mask = torch.ones_like(dec_input)\n",
    "            dec_mask = dec_mask.masked_fill(dec_input == tokenizer.pad_token_id, 0)\n",
    "            \n",
    "            outputs = model(enc_input, dec_input, enc_mask, dec_mask)\n",
    "            loss = criterion(outputs.transpose(2, 1), targets)\n",
    "            test_loss.append(loss.item())\n",
    "        test_loss = np.mean(test_loss)\n",
    "        \n",
    "        train_losses[it] = train_loss\n",
    "        test_losses[it] = test_loss\n",
    "        \n",
    "        dt = datetime.now() - t0\n",
    "        \n",
    "        print(f'Epoch {it+1}/{epochs}, Train Loss: {train_loss:.4f}, Test Loss: {test_loss:.4f}, Duration: {dt}')\n",
    "    return train_losses, test_losses"
   ],
   "id": "4cdfee0e83592239",
   "outputs": [],
   "execution_count": 36
  },
  {
   "metadata": {
    "ExecuteTime": {
     "end_time": "2024-09-27T05:42:02.571653Z",
     "start_time": "2024-09-27T05:40:59.483302Z"
    }
   },
   "cell_type": "code",
   "source": "train_losses, test_losses = train(transformer, criterion, optimizer, train_loader, valid_loader, epochs=3)",
   "id": "f1de7d410fbbebdd",
   "outputs": [
    {
     "name": "stdout",
     "output_type": "stream",
     "text": [
      "Epoch 1/3, Train Loss: 3.0902, Test Loss: 3.0908, Duration: 0:00:21.419990\n",
      "Epoch 2/3, Train Loss: 2.7346, Test Loss: 2.8607, Duration: 0:00:20.816014\n",
      "Epoch 3/3, Train Loss: 2.4463, Test Loss: 2.6809, Duration: 0:00:20.846570\n"
     ]
    }
   ],
   "execution_count": 54
  },
  {
   "metadata": {
    "ExecuteTime": {
     "end_time": "2024-09-27T05:37:15.746692Z",
     "start_time": "2024-09-27T05:37:15.741465Z"
    }
   },
   "cell_type": "code",
   "source": [
    "input_sentence = split['test'][10]['en']\n",
    "input_sentence"
   ],
   "id": "12e659a037c72223",
   "outputs": [
    {
     "data": {
      "text/plain": [
       "'Can I take a day off?'"
      ]
     },
     "execution_count": 38,
     "metadata": {},
     "output_type": "execute_result"
    }
   ],
   "execution_count": 38
  },
  {
   "metadata": {
    "ExecuteTime": {
     "end_time": "2024-09-27T05:37:16.995205Z",
     "start_time": "2024-09-27T05:37:16.989284Z"
    }
   },
   "cell_type": "code",
   "source": [
    "enc_input = tokenizer(input_sentence, return_tensors='pt')\n",
    "enc_input"
   ],
   "id": "4fe9d0bf7d4d11d",
   "outputs": [
    {
     "data": {
      "text/plain": [
       "{'input_ids': tensor([[1283,   33,  273,    8,  502,  843,   21,    0]]), 'attention_mask': tensor([[1, 1, 1, 1, 1, 1, 1, 1]])}"
      ]
     },
     "execution_count": 39,
     "metadata": {},
     "output_type": "execute_result"
    }
   ],
   "execution_count": 39
  },
  {
   "metadata": {
    "ExecuteTime": {
     "end_time": "2024-09-27T05:37:18.417998Z",
     "start_time": "2024-09-27T05:37:18.412055Z"
    }
   },
   "cell_type": "code",
   "source": [
    "dec_input_str = '<s>'\n",
    "dec_input = tokenizer(text_target=dec_input_str, return_tensors='pt')\n",
    "dec_input"
   ],
   "id": "d573eb0e8be862ce",
   "outputs": [
    {
     "data": {
      "text/plain": [
       "{'input_ids': tensor([[65001,     0]]), 'attention_mask': tensor([[1, 1]])}"
      ]
     },
     "execution_count": 40,
     "metadata": {},
     "output_type": "execute_result"
    }
   ],
   "execution_count": 40
  },
  {
   "metadata": {
    "ExecuteTime": {
     "end_time": "2024-09-27T05:37:21.061560Z",
     "start_time": "2024-09-27T05:37:21.015559Z"
    }
   },
   "cell_type": "code",
   "source": [
    "enc_input.to(device)\n",
    "dec_input.to(device)\n",
    "output = transformer(\n",
    "    enc_input['input_ids'],\n",
    "    dec_input['input_ids'][:, :-1],\n",
    "    enc_input['attention_mask'],\n",
    "    dec_input['attention_mask'][:, :-1]\n",
    ")\n",
    "output"
   ],
   "id": "ba992a22928b8e6e",
   "outputs": [
    {
     "data": {
      "text/plain": [
       "tensor([[[ 2.0279, -6.5225,  2.8077,  ..., -5.7599, -6.1446, -4.9369]]],\n",
       "       device='cuda:0', grad_fn=<ViewBackward0>)"
      ]
     },
     "execution_count": 41,
     "metadata": {},
     "output_type": "execute_result"
    }
   ],
   "execution_count": 41
  },
  {
   "metadata": {
    "ExecuteTime": {
     "end_time": "2024-09-27T05:37:22.053424Z",
     "start_time": "2024-09-27T05:37:22.049272Z"
    }
   },
   "cell_type": "code",
   "source": "output.shape",
   "id": "1c871c507ede8766",
   "outputs": [
    {
     "data": {
      "text/plain": [
       "torch.Size([1, 1, 65002])"
      ]
     },
     "execution_count": 42,
     "metadata": {},
     "output_type": "execute_result"
    }
   ],
   "execution_count": 42
  },
  {
   "metadata": {
    "ExecuteTime": {
     "end_time": "2024-09-27T05:37:22.886681Z",
     "start_time": "2024-09-27T05:37:22.879152Z"
    }
   },
   "cell_type": "code",
   "source": [
    "enc_output = encoder(enc_input['input_ids'], enc_input['attention_mask'])\n",
    "enc_output.shape"
   ],
   "id": "92d88e249e6d4368",
   "outputs": [
    {
     "data": {
      "text/plain": [
       "torch.Size([1, 8, 64])"
      ]
     },
     "execution_count": 43,
     "metadata": {},
     "output_type": "execute_result"
    }
   ],
   "execution_count": 43
  },
  {
   "metadata": {
    "ExecuteTime": {
     "end_time": "2024-09-27T05:37:24.467738Z",
     "start_time": "2024-09-27T05:37:24.458782Z"
    }
   },
   "cell_type": "code",
   "source": [
    "dec_output = decoder(enc_output, dec_input['input_ids'][:, :-1], enc_input['attention_mask'], dec_input['attention_mask'][:, :-1])\n",
    "dec_output.shape"
   ],
   "id": "23981164efe13714",
   "outputs": [
    {
     "data": {
      "text/plain": [
       "torch.Size([1, 1, 65002])"
      ]
     },
     "execution_count": 44,
     "metadata": {},
     "output_type": "execute_result"
    }
   ],
   "execution_count": 44
  },
  {
   "metadata": {
    "ExecuteTime": {
     "end_time": "2024-09-27T05:37:25.574499Z",
     "start_time": "2024-09-27T05:37:25.523893Z"
    }
   },
   "cell_type": "code",
   "source": "torch.allclose(output, dec_output)",
   "id": "2d1934aaf488beb2",
   "outputs": [
    {
     "data": {
      "text/plain": [
       "True"
      ]
     },
     "execution_count": 45,
     "metadata": {},
     "output_type": "execute_result"
    }
   ],
   "execution_count": 45
  },
  {
   "metadata": {
    "ExecuteTime": {
     "end_time": "2024-09-27T05:37:26.525578Z",
     "start_time": "2024-09-27T05:37:26.463678Z"
    }
   },
   "cell_type": "code",
   "source": [
    "dec_input_ids = dec_input['input_ids'][:, :-1]\n",
    "dec_attn_mask = dec_input['attention_mask'][:, :-1]\n",
    "\n",
    "for _ in range(32):\n",
    "    dec_output = decoder(\n",
    "        enc_output,\n",
    "        dec_input_ids,\n",
    "        enc_input['attention_mask'],\n",
    "        dec_attn_mask\n",
    "    )\n",
    "    prediction_id = torch.argmax(dec_output[:, -1, :], axis=-1)\n",
    "    \n",
    "    \n",
    "    dec_input_ids = torch.hstack((dec_input_ids, prediction_id.view(1, 1)))\n",
    "    \n",
    "    dec_attn_mask = torch.ones_like(dec_input_ids)\n",
    "    \n",
    "    if prediction_id == 0:\n",
    "        break"
   ],
   "id": "e0df03c4d8749967",
   "outputs": [],
   "execution_count": 46
  },
  {
   "metadata": {
    "ExecuteTime": {
     "end_time": "2024-09-27T05:37:31.311122Z",
     "start_time": "2024-09-27T05:37:31.303706Z"
    }
   },
   "cell_type": "code",
   "source": "tokenizer.decode(dec_input_ids[0])",
   "id": "14cb99cab1dc41ed",
   "outputs": [
    {
     "data": {
      "text/plain": [
       "'<s> ¿Quién puedo un buen?</s>'"
      ]
     },
     "execution_count": 47,
     "metadata": {},
     "output_type": "execute_result"
    }
   ],
   "execution_count": 47
  },
  {
   "metadata": {
    "ExecuteTime": {
     "end_time": "2024-09-27T05:37:32.116966Z",
     "start_time": "2024-09-27T05:37:32.111999Z"
    }
   },
   "cell_type": "code",
   "source": "split['test'][10]['es']",
   "id": "4155a8f3ba18e011",
   "outputs": [
    {
     "data": {
      "text/plain": [
       "'¿Puedo tomarme un día libre?'"
      ]
     },
     "execution_count": 48,
     "metadata": {},
     "output_type": "execute_result"
    }
   ],
   "execution_count": 48
  },
  {
   "metadata": {
    "ExecuteTime": {
     "end_time": "2024-09-27T05:37:32.916991Z",
     "start_time": "2024-09-27T05:37:32.911309Z"
    }
   },
   "cell_type": "code",
   "source": [
    "def translate(input_sentence):\n",
    "    enc_input = tokenizer(input_sentence, return_tensors='pt').to(device)\n",
    "    enc_output = encoder(enc_input['input_ids'], enc_input['attention_mask'])\n",
    "    \n",
    "    dec_input_ids = torch.tensor([[65_001]], device=device)\n",
    "    dec_attn_mask = torch.ones_like(dec_input_ids, device=device)\n",
    "    \n",
    "    for _ in range(32):\n",
    "        dec_output = decoder(\n",
    "            enc_output,\n",
    "            dec_input_ids,\n",
    "            enc_input['attention_mask'],\n",
    "            dec_attn_mask\n",
    "        )\n",
    "        \n",
    "        prediction_id = torch.argmax(dec_output[:, -1, :], axis=-1)\n",
    "        \n",
    "        dec_input_ids = torch.hstack((dec_input_ids, prediction_id.view(1, 1)))\n",
    "        \n",
    "        dec_attn_mask = torch.ones_like(dec_input_ids, device=device)\n",
    "        \n",
    "        if prediction_id == 0:\n",
    "            break\n",
    "            \n",
    "    translation = tokenizer.decode(dec_input_ids[0, 1:])\n",
    "    print(translation)\n",
    "        "
   ],
   "id": "31f7435ebbd12f54",
   "outputs": [],
   "execution_count": 49
  },
  {
   "metadata": {
    "ExecuteTime": {
     "end_time": "2024-09-27T05:43:13.011899Z",
     "start_time": "2024-09-27T05:43:12.841454Z"
    }
   },
   "cell_type": "code",
   "source": "translate(\"How are you?\")",
   "id": "8b384f2bd70ac193",
   "outputs": [
    {
     "name": "stdout",
     "output_type": "stream",
     "text": [
      "¿Cómo estás hecho?</s>\n"
     ]
    }
   ],
   "execution_count": 56
  },
  {
   "metadata": {},
   "cell_type": "code",
   "outputs": [],
   "execution_count": null,
   "source": "",
   "id": "d72f6e1690622d76"
  }
 ],
 "metadata": {
  "kernelspec": {
   "display_name": "Python 3",
   "language": "python",
   "name": "python3"
  },
  "language_info": {
   "codemirror_mode": {
    "name": "ipython",
    "version": 2
   },
   "file_extension": ".py",
   "mimetype": "text/x-python",
   "name": "python",
   "nbconvert_exporter": "python",
   "pygments_lexer": "ipython2",
   "version": "2.7.6"
  }
 },
 "nbformat": 4,
 "nbformat_minor": 5
}
